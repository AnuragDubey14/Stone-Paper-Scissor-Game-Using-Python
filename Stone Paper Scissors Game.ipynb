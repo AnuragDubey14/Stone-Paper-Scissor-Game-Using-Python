{
 "cells": [
  {
   "cell_type": "markdown",
   "id": "6aea0edd",
   "metadata": {},
   "source": [
    "# Stone Paper Scissor Game Project using Python"
   ]
  },
  {
   "cell_type": "code",
   "execution_count": null,
   "id": "b7851521",
   "metadata": {},
   "outputs": [],
   "source": [
    "print(\"Welcome Stone Paper Scissor Game\")\n",
    "def singleplayer():\n",
    "    import random\n",
    "    l=['rock','paper','scissor']\n",
    "    n=1 \n",
    "    count1=0\n",
    "    count2=0\n",
    "    while(n<=5):\n",
    "        user1=input(\"Enter your choice\").lower()\n",
    "        user2=random.choice(l)\n",
    "        if user1==user2:\n",
    "            count1+=1\n",
    "            count2+=1\n",
    "            print(\"Match Draw\")\n",
    "        elif (user1=='scissor'and user2=='paper') or (user1=='rock'and user2=='scissor') or (user1=='paper'and user2=='rock'):\n",
    "            count1+=1\n",
    "            print(\"User won the match\")\n",
    "        else:\n",
    "            count2+=1\n",
    "            print(\"Computer won the match\")\n",
    "        n=n+1\n",
    "    print(\"Points of User:\" ,count1)\n",
    "    print(\"Points of Computer:\",count2)\n",
    "    if count1>count2:\n",
    "        print(\"User won the match\")\n",
    "    elif count2>count1:\n",
    "        print(\"Computer won the match\")\n",
    "    elif count1==count2:\n",
    "        print(\"Match Draw\")\n",
    "    print(\"Game Over\")   \n",
    "\n",
    "def multiplayer():\n",
    "    n=1 \n",
    "    count1=0\n",
    "    count2=0\n",
    "    while(n<=5):\n",
    "        user1=input(\"Enter your choice user1: \").lower()\n",
    "        user2=input(\"Enter your choice user2: \").lower()\n",
    "\n",
    "        if user1==user2:\n",
    "            count1+=1\n",
    "            count2+=1\n",
    "            print(\"Match Draw\")\n",
    "\n",
    "        elif (user1=='scissor'and user2=='paper') or (user1=='rock'and user2=='scissor') or (user1=='paper'and user2=='rock'):\n",
    "            count1+=1\n",
    "            print(\"User1 won the match\")\n",
    "        else:\n",
    "            count2+=1\n",
    "            print(\"User2 won the match\")\n",
    "        n=n+1\n",
    "    print(\"Points of User1:\" ,count1)\n",
    "    print(\"Points of User2:\",count2)\n",
    "    if count1>count2:\n",
    "        print(\"User1 won the match\")\n",
    "    elif count2>count1:\n",
    "        print(\"User2 won the match\")\n",
    "    elif count1==count2:\n",
    "        print(\"Match Draw\")\n",
    "    print(\"Game Over\")   \n",
    "    \n",
    "choice=int(input('''Enter mode\n",
    "press 1 for single player\n",
    "press 2 for multiplayer :'''))            \n",
    "if choice==1:\n",
    "    singleplayer()\n",
    "elif choice==2:\n",
    "    multiplayer()  "
   ]
  },
  {
   "cell_type": "code",
   "execution_count": null,
   "id": "c818e5b3",
   "metadata": {},
   "outputs": [],
   "source": []
  },
  {
   "cell_type": "code",
   "execution_count": null,
   "id": "cd6d3d34",
   "metadata": {},
   "outputs": [],
   "source": []
  }
 ],
 "metadata": {
  "kernelspec": {
   "display_name": "Python 3 (ipykernel)",
   "language": "python",
   "name": "python3"
  },
  "language_info": {
   "codemirror_mode": {
    "name": "ipython",
    "version": 3
   },
   "file_extension": ".py",
   "mimetype": "text/x-python",
   "name": "python",
   "nbconvert_exporter": "python",
   "pygments_lexer": "ipython3",
   "version": "3.11.1"
  }
 },
 "nbformat": 4,
 "nbformat_minor": 5
}
